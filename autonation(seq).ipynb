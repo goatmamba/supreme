{
 "cells": [
  {
   "cell_type": "code",
   "execution_count": 9,
   "metadata": {},
   "outputs": [],
   "source": [
    "import xml.etree.ElementTree as ET\n",
    "import os \n",
    "\n",
    "sets=['train', 'test']\n",
    "\n",
    "classes = [\"0\", \"1\", \"2\", \"3\", \"4\", \"5\", \"6\", \"7\", \"8\", \"9\"]\n",
    "\n",
    "\n",
    "def convert_annotation(image_set,image_id, list_file):\n",
    "    an_dir='/home/sean/pywork/yolov3/annotation/%s/%s.xml'%(image_set,image_id)\n",
    "    in_file = open(an_dir)\n",
    "    tree=ET.parse(in_file)\n",
    "    root = tree.getroot()\n",
    "\n",
    "    for obj in root.iter('object'):\n",
    "       \n",
    "        cls = obj.find('name').text\n",
    "        if cls not in classes:\n",
    "            continue\n",
    "        cls_id = classes.index(cls)\n",
    "        xmlbox = obj.find('bndbox')\n",
    "        b = (int(xmlbox.find('xmin').text), int(xmlbox.find('ymin').text), int(xmlbox.find('xmax').text), int(xmlbox.find('ymax').text))\n",
    "        list_file.write(\" \" + \",\".join([str(a) for a in b]) + ',' + str(cls_id))\n",
    "\n",
    "for  image_set in sets:\n",
    "    image_dir=\"/home/sean/pywork/yolov3/%s\"%image_set\n",
    "    txt_dir='/home/sean/pywork/yolov3/txt/%s.txt'%image_set\n",
    "    list_file=open(txt_dir,\"w\")\n",
    "\n",
    "    for root, dirs, files in os.walk(image_dir) :\n",
    "         file_min=min(files)\n",
    "         png=file_min.find('.png')\n",
    "         num_min=int(file_min[0:png])\n",
    "         num=len(files)\n",
    "\n",
    "    for image_id in range(num_min,num_min+num-3):\n",
    "        list_file.write('/home/sean/pywork/yolov3/%s/%s.png'%(image_set, image_id))\n",
    "        convert_annotation(image_set,image_id, list_file)\n",
    "        list_file.write('\\n')\n",
    "        \n",
    "    list_file.close()"
   ]
  },
  {
   "cell_type": "code",
   "execution_count": null,
   "metadata": {},
   "outputs": [],
   "source": []
  }
 ],
 "metadata": {
  "kernelspec": {
   "display_name": "Python 3",
   "language": "python",
   "name": "python3"
  },
  "language_info": {
   "codemirror_mode": {
    "name": "ipython",
    "version": 3
   },
   "file_extension": ".py",
   "mimetype": "text/x-python",
   "name": "python",
   "nbconvert_exporter": "python",
   "pygments_lexer": "ipython3",
   "version": "3.7.3"
  }
 },
 "nbformat": 4,
 "nbformat_minor": 2
}
